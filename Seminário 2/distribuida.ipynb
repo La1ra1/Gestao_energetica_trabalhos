{
 "cells": [
  {
   "cell_type": "code",
   "execution_count": 1,
   "metadata": {},
   "outputs": [],
   "source": [
    "import pandas as pd\n",
    "import numpy as np\n",
    "import matplotlib.pyplot as plt"
   ]
  },
  {
   "cell_type": "code",
   "execution_count": 10,
   "metadata": {},
   "outputs": [
    {
     "name": "stderr",
     "output_type": "stream",
     "text": [
      "C:\\Users\\lauro\\AppData\\Local\\Temp\\ipykernel_12828\\3879744307.py:1: UserWarning: Could not infer format, so each element will be parsed individually, falling back to `dateutil`. To ensure parsing is consistent and as-expected, please specify a format.\n",
      "  df_dist = pd.read_csv('DISTRIBUIDA/empreendimento-geracao-distribuida.csv', sep=';', decimal=',', parse_dates=[0], encoding='latin1', usecols=['SigAgente', 'CodClasseConsumo', 'NomRegiao', 'DscSubGrupoTarifario', 'CodMunicipioIbge','NomMunicipio', 'SigTipoGeracao', 'MdaPotenciaInstaladaKW'], dtype={'CodMunicipioIbge': str, 'CodClasseConsumo': int})\n"
     ]
    }
   ],
   "source": [
    "df_dist = pd.read_csv('DISTRIBUIDA/empreendimento-geracao-distribuida.csv', sep=';', decimal=',', parse_dates=[0], encoding='latin1', usecols=['SigAgente', 'CodClasseConsumo', 'NomRegiao', 'DscSubGrupoTarifario', 'CodMunicipioIbge','NomMunicipio', 'SigTipoGeracao', 'MdaPotenciaInstaladaKW'], dtype={'CodMunicipioIbge': str, 'CodClasseConsumo': int})"
   ]
  },
  {
   "cell_type": "code",
   "execution_count": 78,
   "metadata": {},
   "outputs": [
    {
     "name": "stderr",
     "output_type": "stream",
     "text": [
      "C:\\Users\\lauro\\AppData\\Local\\Temp\\ipykernel_12828\\2906562860.py:1: DtypeWarning: Columns (30) have mixed types. Specify dtype option on import or set low_memory=False.\n",
      "  df_test = pd.read_csv('DISTRIBUIDA/empreendimento-geracao-distribuida.csv', sep=';', decimal=',', parse_dates=[0], encoding='latin1')\n"
     ]
    }
   ],
   "source": [
    "df_test = pd.read_csv('DISTRIBUIDA/empreendimento-geracao-distribuida.csv', sep=';', decimal=',', parse_dates=[0], encoding='latin1')"
   ]
  },
  {
   "cell_type": "code",
   "execution_count": 63,
   "metadata": {},
   "outputs": [
    {
     "data": {
      "text/plain": [
       "1971386"
      ]
     },
     "execution_count": 63,
     "metadata": {},
     "output_type": "execute_result"
    }
   ],
   "source": [
    "1971386"
   ]
  },
  {
   "cell_type": "code",
   "execution_count": 64,
   "metadata": {},
   "outputs": [],
   "source": [
    "df_dist = df_dist.dropna()"
   ]
  },
  {
   "cell_type": "code",
   "execution_count": 65,
   "metadata": {},
   "outputs": [],
   "source": [
    "df_dist = df_dist.query('SigTipoGeracao==\"UFV\"')"
   ]
  },
  {
   "cell_type": "code",
   "execution_count": 80,
   "metadata": {},
   "outputs": [
    {
     "data": {
      "text/html": [
       "<div>\n",
       "<style scoped>\n",
       "    .dataframe tbody tr th:only-of-type {\n",
       "        vertical-align: middle;\n",
       "    }\n",
       "\n",
       "    .dataframe tbody tr th {\n",
       "        vertical-align: top;\n",
       "    }\n",
       "\n",
       "    .dataframe thead th {\n",
       "        text-align: right;\n",
       "    }\n",
       "</style>\n",
       "<table border=\"1\" class=\"dataframe\">\n",
       "  <thead>\n",
       "    <tr style=\"text-align: right;\">\n",
       "      <th></th>\n",
       "      <th>SigAgente</th>\n",
       "      <th>CodClasseConsumo</th>\n",
       "      <th>DscSubGrupoTarifario</th>\n",
       "      <th>NomRegiao</th>\n",
       "      <th>CodMunicipioIbge</th>\n",
       "      <th>NomMunicipio</th>\n",
       "      <th>SigTipoGeracao</th>\n",
       "      <th>MdaPotenciaInstaladaKW</th>\n",
       "      <th>CodEstado</th>\n",
       "      <th>FC</th>\n",
       "    </tr>\n",
       "  </thead>\n",
       "  <tbody>\n",
       "    <tr>\n",
       "      <th>0</th>\n",
       "      <td>CPFL-PAULISTA</td>\n",
       "      <td>1</td>\n",
       "      <td>B1</td>\n",
       "      <td>Sudeste</td>\n",
       "      <td>3533007</td>\n",
       "      <td>Nova Granada</td>\n",
       "      <td>UFV</td>\n",
       "      <td>3.3</td>\n",
       "      <td>35</td>\n",
       "      <td>0.159</td>\n",
       "    </tr>\n",
       "    <tr>\n",
       "      <th>1</th>\n",
       "      <td>ELETROACRE</td>\n",
       "      <td>2</td>\n",
       "      <td>B3</td>\n",
       "      <td>Norte</td>\n",
       "      <td>1200401</td>\n",
       "      <td>Rio Branco</td>\n",
       "      <td>UFV</td>\n",
       "      <td>32.5</td>\n",
       "      <td>12</td>\n",
       "      <td>0.145</td>\n",
       "    </tr>\n",
       "    <tr>\n",
       "      <th>2</th>\n",
       "      <td>ELETROACRE</td>\n",
       "      <td>1</td>\n",
       "      <td>B1</td>\n",
       "      <td>Norte</td>\n",
       "      <td>1200609</td>\n",
       "      <td>Tarauacá</td>\n",
       "      <td>UFV</td>\n",
       "      <td>4.0</td>\n",
       "      <td>12</td>\n",
       "      <td>0.145</td>\n",
       "    </tr>\n",
       "    <tr>\n",
       "      <th>3</th>\n",
       "      <td>ELETROACRE</td>\n",
       "      <td>2</td>\n",
       "      <td>B3</td>\n",
       "      <td>Norte</td>\n",
       "      <td>1200401</td>\n",
       "      <td>Rio Branco</td>\n",
       "      <td>UFV</td>\n",
       "      <td>2.0</td>\n",
       "      <td>12</td>\n",
       "      <td>0.145</td>\n",
       "    </tr>\n",
       "    <tr>\n",
       "      <th>4</th>\n",
       "      <td>ELETROACRE</td>\n",
       "      <td>1</td>\n",
       "      <td>B1</td>\n",
       "      <td>Norte</td>\n",
       "      <td>1200401</td>\n",
       "      <td>Rio Branco</td>\n",
       "      <td>UFV</td>\n",
       "      <td>2.0</td>\n",
       "      <td>12</td>\n",
       "      <td>0.145</td>\n",
       "    </tr>\n",
       "    <tr>\n",
       "      <th>...</th>\n",
       "      <td>...</td>\n",
       "      <td>...</td>\n",
       "      <td>...</td>\n",
       "      <td>...</td>\n",
       "      <td>...</td>\n",
       "      <td>...</td>\n",
       "      <td>...</td>\n",
       "      <td>...</td>\n",
       "      <td>...</td>\n",
       "      <td>...</td>\n",
       "    </tr>\n",
       "    <tr>\n",
       "      <th>1971381</th>\n",
       "      <td>ETO</td>\n",
       "      <td>3</td>\n",
       "      <td>B2</td>\n",
       "      <td>Norte</td>\n",
       "      <td>1713809</td>\n",
       "      <td>Palmeiras do Tocantins</td>\n",
       "      <td>UFV</td>\n",
       "      <td>75.0</td>\n",
       "      <td>17</td>\n",
       "      <td>0.167</td>\n",
       "    </tr>\n",
       "    <tr>\n",
       "      <th>1971382</th>\n",
       "      <td>ETO</td>\n",
       "      <td>6</td>\n",
       "      <td>B3</td>\n",
       "      <td>Norte</td>\n",
       "      <td>1702208</td>\n",
       "      <td>Araguatins</td>\n",
       "      <td>UFV</td>\n",
       "      <td>10.0</td>\n",
       "      <td>17</td>\n",
       "      <td>0.167</td>\n",
       "    </tr>\n",
       "    <tr>\n",
       "      <th>1971383</th>\n",
       "      <td>ETO</td>\n",
       "      <td>1</td>\n",
       "      <td>B1</td>\n",
       "      <td>Norte</td>\n",
       "      <td>1721208</td>\n",
       "      <td>Tocantinópolis</td>\n",
       "      <td>UFV</td>\n",
       "      <td>5.6</td>\n",
       "      <td>17</td>\n",
       "      <td>0.167</td>\n",
       "    </tr>\n",
       "    <tr>\n",
       "      <th>1971384</th>\n",
       "      <td>ETO</td>\n",
       "      <td>2</td>\n",
       "      <td>B3</td>\n",
       "      <td>Norte</td>\n",
       "      <td>1715754</td>\n",
       "      <td>Palmeirópolis</td>\n",
       "      <td>UFV</td>\n",
       "      <td>4.0</td>\n",
       "      <td>17</td>\n",
       "      <td>0.167</td>\n",
       "    </tr>\n",
       "    <tr>\n",
       "      <th>1971385</th>\n",
       "      <td>Equatorial GO</td>\n",
       "      <td>3</td>\n",
       "      <td>B2</td>\n",
       "      <td>Norte</td>\n",
       "      <td>1720903</td>\n",
       "      <td>Taguatinga</td>\n",
       "      <td>UFV</td>\n",
       "      <td>4.0</td>\n",
       "      <td>17</td>\n",
       "      <td>0.167</td>\n",
       "    </tr>\n",
       "  </tbody>\n",
       "</table>\n",
       "<p>1970384 rows × 10 columns</p>\n",
       "</div>"
      ],
      "text/plain": [
       "             SigAgente  CodClasseConsumo DscSubGrupoTarifario NomRegiao  \\\n",
       "0        CPFL-PAULISTA                 1                   B1   Sudeste   \n",
       "1           ELETROACRE                 2                   B3     Norte   \n",
       "2           ELETROACRE                 1                   B1     Norte   \n",
       "3           ELETROACRE                 2                   B3     Norte   \n",
       "4           ELETROACRE                 1                   B1     Norte   \n",
       "...                ...               ...                  ...       ...   \n",
       "1971381            ETO                 3                   B2     Norte   \n",
       "1971382            ETO                 6                   B3     Norte   \n",
       "1971383            ETO                 1                   B1     Norte   \n",
       "1971384            ETO                 2                   B3     Norte   \n",
       "1971385  Equatorial GO                 3                   B2     Norte   \n",
       "\n",
       "        CodMunicipioIbge            NomMunicipio SigTipoGeracao  \\\n",
       "0                3533007            Nova Granada            UFV   \n",
       "1                1200401              Rio Branco            UFV   \n",
       "2                1200609                Tarauacá            UFV   \n",
       "3                1200401              Rio Branco            UFV   \n",
       "4                1200401              Rio Branco            UFV   \n",
       "...                  ...                     ...            ...   \n",
       "1971381          1713809  Palmeiras do Tocantins            UFV   \n",
       "1971382          1702208              Araguatins            UFV   \n",
       "1971383          1721208          Tocantinópolis            UFV   \n",
       "1971384          1715754           Palmeirópolis            UFV   \n",
       "1971385          1720903              Taguatinga            UFV   \n",
       "\n",
       "         MdaPotenciaInstaladaKW CodEstado     FC  \n",
       "0                           3.3        35  0.159  \n",
       "1                          32.5        12  0.145  \n",
       "2                           4.0        12  0.145  \n",
       "3                           2.0        12  0.145  \n",
       "4                           2.0        12  0.145  \n",
       "...                         ...       ...    ...  \n",
       "1971381                    75.0        17  0.167  \n",
       "1971382                    10.0        17  0.167  \n",
       "1971383                     5.6        17  0.167  \n",
       "1971384                     4.0        17  0.167  \n",
       "1971385                     4.0        17  0.167  \n",
       "\n",
       "[1970384 rows x 10 columns]"
      ]
     },
     "execution_count": 80,
     "metadata": {},
     "output_type": "execute_result"
    }
   ],
   "source": [
    "df_dist"
   ]
  },
  {
   "cell_type": "code",
   "execution_count": 66,
   "metadata": {},
   "outputs": [],
   "source": [
    "def strip(x):\n",
    "    return str(x['CodMunicipioIbge'])[:2]"
   ]
  },
  {
   "cell_type": "code",
   "execution_count": 67,
   "metadata": {},
   "outputs": [],
   "source": [
    "def aplicar_estado(df_codigos, x):\n",
    "    return df_codigos.loc[int(x['CodEstado'])]['FC']"
   ]
  },
  {
   "cell_type": "code",
   "execution_count": 91,
   "metadata": {},
   "outputs": [
    {
     "data": {
      "text/plain": [
       "0.9999863354093499"
      ]
     },
     "execution_count": 91,
     "metadata": {},
     "output_type": "execute_result"
    }
   ],
   "source": [
    "2 - (1+0.005)**(1/365)"
   ]
  },
  {
   "cell_type": "code",
   "execution_count": 94,
   "metadata": {},
   "outputs": [],
   "source": [
    "def calcular_energia(x):\n",
    "    return x['MdaPotenciaInstaladaKW']*x['FC']*31*24*(2 - (1+0.005)**(1/365))**365"
   ]
  },
  {
   "cell_type": "code",
   "execution_count": 68,
   "metadata": {},
   "outputs": [],
   "source": [
    "df_cod = pd.read_csv('DISTRIBUIDA/codigos_estado.csv', index_col=1)"
   ]
  },
  {
   "cell_type": "code",
   "execution_count": 69,
   "metadata": {},
   "outputs": [
    {
     "data": {
      "text/plain": [
       "UF       AC\n",
       "FC    0.145\n",
       "Name: 12, dtype: object"
      ]
     },
     "execution_count": 69,
     "metadata": {},
     "output_type": "execute_result"
    }
   ],
   "source": [
    "df_cod.loc[12]"
   ]
  },
  {
   "cell_type": "code",
   "execution_count": 70,
   "metadata": {},
   "outputs": [],
   "source": [
    "df_dist['CodEstado'] = df_dist.apply(strip, axis=1)"
   ]
  },
  {
   "cell_type": "code",
   "execution_count": 73,
   "metadata": {},
   "outputs": [],
   "source": [
    "df_dist['FC'] = df_dist.apply(lambda x: aplicar_estado(df_cod, x), axis=1)"
   ]
  },
  {
   "cell_type": "code",
   "execution_count": 75,
   "metadata": {},
   "outputs": [],
   "source": [
    "df_dist.to_parquet('DISTRIBUIDA/empreendimento-geracao-distribuida.parquet')"
   ]
  },
  {
   "cell_type": "code",
   "execution_count": 95,
   "metadata": {},
   "outputs": [],
   "source": [
    "df_dist['ENERGIA'] = df_dist.apply(calcular_energia, axis=1)"
   ]
  },
  {
   "cell_type": "code",
   "execution_count": null,
   "metadata": {},
   "outputs": [],
   "source": [
    "df_dist['ENERGIA'] = df_dist['ENERGIA']/1000"
   ]
  },
  {
   "cell_type": "code",
   "execution_count": 102,
   "metadata": {},
   "outputs": [],
   "source": [
    "df_dist.to_parquet('DISTRIBUIDA/empreendimento-geracao-distribuida.parquet')"
   ]
  },
  {
   "cell_type": "code",
   "execution_count": 104,
   "metadata": {},
   "outputs": [
    {
     "data": {
      "text/plain": [
       "2538718.075884628"
      ]
     },
     "execution_count": 104,
     "metadata": {},
     "output_type": "execute_result"
    }
   ],
   "source": [
    "df_dist['ENERGIA'].sum()"
   ]
  },
  {
   "cell_type": "code",
   "execution_count": null,
   "metadata": {},
   "outputs": [],
   "source": []
  }
 ],
 "metadata": {
  "kernelspec": {
   "display_name": "Python 3",
   "language": "python",
   "name": "python3"
  },
  "language_info": {
   "codemirror_mode": {
    "name": "ipython",
    "version": 3
   },
   "file_extension": ".py",
   "mimetype": "text/x-python",
   "name": "python",
   "nbconvert_exporter": "python",
   "pygments_lexer": "ipython3",
   "version": "3.10.4"
  },
  "orig_nbformat": 4
 },
 "nbformat": 4,
 "nbformat_minor": 2
}
